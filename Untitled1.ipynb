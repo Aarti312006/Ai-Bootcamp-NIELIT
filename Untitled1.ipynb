{
  "nbformat": 4,
  "nbformat_minor": 0,
  "metadata": {
    "colab": {
      "provenance": [],
      "toc_visible": true
    },
    "kernelspec": {
      "name": "python3",
      "display_name": "Python 3"
    },
    "language_info": {
      "name": "python"
    }
  },
  "cells": [
    {
      "cell_type": "code",
      "execution_count": 1,
      "metadata": {
        "colab": {
          "base_uri": "https://localhost:8080/"
        },
        "id": "fpWGdtNiywu6",
        "outputId": "5973bf07-996f-456b-baec-86027f05a568"
      },
      "outputs": [
        {
          "output_type": "stream",
          "name": "stdout",
          "text": [
            "Hello,world!\n"
          ]
        }
      ],
      "source": [
        "print(\"Hello,world!\")"
      ]
    },
    {
      "cell_type": "code",
      "source": [
        "a = 5\n",
        "b = 6.5\n",
        "# Addtion\n",
        "c = a + b\n",
        "print (\"The sum of two number is\",c)\n"
      ],
      "metadata": {
        "colab": {
          "base_uri": "https://localhost:8080/"
        },
        "id": "XLqfnJadyxxj",
        "outputId": "8472225c-79bf-4871-d3bd-23abec606282"
      },
      "execution_count": 2,
      "outputs": [
        {
          "output_type": "stream",
          "name": "stdout",
          "text": [
            "The sum of two number is 11.5\n"
          ]
        }
      ]
    },
    {
      "cell_type": "code",
      "source": [
        "\n",
        "j = float ( input(\"Enter first number: \"))\n",
        "k = float (input(\"Enter second number: \"))\n",
        "l = j*k\n",
        "print(\"The product of two number is \",l)"
      ],
      "metadata": {
        "colab": {
          "base_uri": "https://localhost:8080/"
        },
        "id": "0h3RH3_Pz_-F",
        "outputId": "6d983e5d-6286-4d0e-8015-9b26397d5f4a"
      },
      "execution_count": 6,
      "outputs": [
        {
          "output_type": "stream",
          "name": "stdout",
          "text": [
            "Enter first number: 15\n",
            "Enter second number: 1\n",
            "The product of two number is  15.0\n"
          ]
        }
      ]
    }
  ]
}