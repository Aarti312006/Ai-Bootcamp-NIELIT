{
  "nbformat": 4,
  "nbformat_minor": 0,
  "metadata": {
    "colab": {
      "provenance": []
    },
    "kernelspec": {
      "name": "python3",
      "display_name": "Python 3"
    },
    "language_info": {
      "name": "python"
    }
  },
  "cells": [
    {
      "cell_type": "code",
      "execution_count": 2,
      "metadata": {
        "colab": {
          "base_uri": "https://localhost:8080/"
        },
        "id": "xP8kUDeLv971",
        "outputId": "588357b0-a058-4466-cc3c-1d305ae408ab"
      },
      "outputs": [
        {
          "output_type": "stream",
          "name": "stdout",
          "text": [
            "Enter the first number56\n",
            "Enter the second number45\n",
            "The sum of 56.0 and 45.0 is 101.0\n"
          ]
        }
      ],
      "source": [
        "# This programadds two numbres provided by the user\n",
        "\n",
        "# Taking input from the user\n",
        "num1 = float(input(\"Enter the first number\"))\n",
        "num2 = float(input(\"Enter the second number\"))\n",
        "\n",
        "# Calculating the sum\n",
        "sum = num1 + num2\n",
        "\n",
        "#displaying the result\n",
        "print(\"The sum of\", num1, \"and\", num2, \"is\", sum)"
      ]
    }
  ]
}